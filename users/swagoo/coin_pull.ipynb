{
 "cells": [
  {
   "cell_type": "code",
   "execution_count": 1,
   "metadata": {},
   "outputs": [],
   "source": [
    "from coinapi_rest_v1.restapi import CoinAPIv1\n",
    "test_key = sys.argv[1]\n",
    "api = CoinAPIv1(\"E2FD6158-DEEC-46CA-911B-2A08340A8ED5\")"
   ]
  },
  {
   "cell_type": "code",
   "execution_count": 12,
   "metadata": {},
   "outputs": [],
   "source": [
    "import urllib.request\n",
    "import urllib.parse\n",
    "import gzip\n",
    "import json\n",
    "import requests\n",
    "\n",
    "url = 'https://rest.coinapi.io/v1/exchangerate/BTC/USD'\n",
    "headers = {'X-CoinAPI-Key' : 'E2FD6158-DEEC-46CA-911B-2A08340A8ED5'}\n",
    "response = requests.get(url, headers=headers)\n",
    "\n",
    "#json=json.loads()\n",
    "#print(json)\n"
   ]
  },
  {
   "cell_type": "code",
   "execution_count": null,
   "metadata": {},
   "outputs": [],
   "source": []
  }
 ],
 "metadata": {
  "kernelspec": {
   "display_name": "Python 3",
   "language": "python",
   "name": "python3"
  },
  "language_info": {
   "codemirror_mode": {
    "name": "ipython",
    "version": 3
   },
   "file_extension": ".py",
   "mimetype": "text/x-python",
   "name": "python",
   "nbconvert_exporter": "python",
   "pygments_lexer": "ipython3",
   "version": "3.8.13"
  },
  "orig_nbformat": 4,
  "vscode": {
   "interpreter": {
    "hash": "9ac03a0a6051494cc606d484d27d20fce22fb7b4d169f583271e11d5ba46a56e"
   }
  }
 },
 "nbformat": 4,
 "nbformat_minor": 2
}
